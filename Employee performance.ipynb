{
 "cells": [
  {
   "cell_type": "code",
   "execution_count": 1,
   "id": "0416bfc7-e0e9-4561-8f6f-6efc02c9d254",
   "metadata": {},
   "outputs": [
    {
     "data": {
      "text/html": [
       "<div>\n",
       "<style scoped>\n",
       "    .dataframe tbody tr th:only-of-type {\n",
       "        vertical-align: middle;\n",
       "    }\n",
       "\n",
       "    .dataframe tbody tr th {\n",
       "        vertical-align: top;\n",
       "    }\n",
       "\n",
       "    .dataframe thead th {\n",
       "        text-align: right;\n",
       "    }\n",
       "</style>\n",
       "<table border=\"1\" class=\"dataframe\">\n",
       "  <thead>\n",
       "    <tr style=\"text-align: right;\">\n",
       "      <th></th>\n",
       "      <th>Employee_ID</th>\n",
       "      <th>Date</th>\n",
       "      <th>Department</th>\n",
       "      <th>Job_Role</th>\n",
       "      <th>Hours_Worked</th>\n",
       "      <th>Tasks_Completed</th>\n",
       "      <th>Performance_Score</th>\n",
       "      <th>Tasks_Per_Hour</th>\n",
       "    </tr>\n",
       "  </thead>\n",
       "  <tbody>\n",
       "    <tr>\n",
       "      <th>0</th>\n",
       "      <td>E00001</td>\n",
       "      <td>2023-01-01</td>\n",
       "      <td>Marketing</td>\n",
       "      <td>Manager</td>\n",
       "      <td>5.1</td>\n",
       "      <td>19</td>\n",
       "      <td>3.90</td>\n",
       "      <td>3.73</td>\n",
       "    </tr>\n",
       "    <tr>\n",
       "      <th>1</th>\n",
       "      <td>E00002</td>\n",
       "      <td>2023-01-02</td>\n",
       "      <td>HR</td>\n",
       "      <td>Consultant</td>\n",
       "      <td>9.3</td>\n",
       "      <td>8</td>\n",
       "      <td>2.95</td>\n",
       "      <td>0.86</td>\n",
       "    </tr>\n",
       "    <tr>\n",
       "      <th>2</th>\n",
       "      <td>E00003</td>\n",
       "      <td>2023-01-03</td>\n",
       "      <td>Finance</td>\n",
       "      <td>Developer</td>\n",
       "      <td>5.8</td>\n",
       "      <td>6</td>\n",
       "      <td>2.32</td>\n",
       "      <td>1.03</td>\n",
       "    </tr>\n",
       "    <tr>\n",
       "      <th>3</th>\n",
       "      <td>E00004</td>\n",
       "      <td>2023-01-04</td>\n",
       "      <td>Finance</td>\n",
       "      <td>Technician</td>\n",
       "      <td>6.4</td>\n",
       "      <td>15</td>\n",
       "      <td>1.51</td>\n",
       "      <td>2.34</td>\n",
       "    </tr>\n",
       "    <tr>\n",
       "      <th>4</th>\n",
       "      <td>E00005</td>\n",
       "      <td>2023-01-05</td>\n",
       "      <td>Marketing</td>\n",
       "      <td>Analyst</td>\n",
       "      <td>4.5</td>\n",
       "      <td>3</td>\n",
       "      <td>3.62</td>\n",
       "      <td>0.67</td>\n",
       "    </tr>\n",
       "    <tr>\n",
       "      <th>5</th>\n",
       "      <td>E00006</td>\n",
       "      <td>2023-01-06</td>\n",
       "      <td>Marketing</td>\n",
       "      <td>Analyst</td>\n",
       "      <td>11.6</td>\n",
       "      <td>2</td>\n",
       "      <td>1.40</td>\n",
       "      <td>0.17</td>\n",
       "    </tr>\n",
       "    <tr>\n",
       "      <th>6</th>\n",
       "      <td>E00007</td>\n",
       "      <td>2023-01-07</td>\n",
       "      <td>Sales</td>\n",
       "      <td>Manager</td>\n",
       "      <td>11.0</td>\n",
       "      <td>10</td>\n",
       "      <td>3.48</td>\n",
       "      <td>0.91</td>\n",
       "    </tr>\n",
       "    <tr>\n",
       "      <th>7</th>\n",
       "      <td>E00008</td>\n",
       "      <td>2023-01-08</td>\n",
       "      <td>HR</td>\n",
       "      <td>Manager</td>\n",
       "      <td>11.3</td>\n",
       "      <td>1</td>\n",
       "      <td>4.60</td>\n",
       "      <td>0.09</td>\n",
       "    </tr>\n",
       "    <tr>\n",
       "      <th>8</th>\n",
       "      <td>E00009</td>\n",
       "      <td>2023-01-09</td>\n",
       "      <td>Engineering</td>\n",
       "      <td>Technician</td>\n",
       "      <td>9.0</td>\n",
       "      <td>11</td>\n",
       "      <td>2.27</td>\n",
       "      <td>1.22</td>\n",
       "    </tr>\n",
       "    <tr>\n",
       "      <th>9</th>\n",
       "      <td>E00010</td>\n",
       "      <td>2023-01-10</td>\n",
       "      <td>HR</td>\n",
       "      <td>Developer</td>\n",
       "      <td>7.4</td>\n",
       "      <td>9</td>\n",
       "      <td>2.80</td>\n",
       "      <td>1.22</td>\n",
       "    </tr>\n",
       "  </tbody>\n",
       "</table>\n",
       "</div>"
      ],
      "text/plain": [
       "  Employee_ID        Date   Department    Job_Role  Hours_Worked  \\\n",
       "0      E00001  2023-01-01    Marketing     Manager           5.1   \n",
       "1      E00002  2023-01-02           HR  Consultant           9.3   \n",
       "2      E00003  2023-01-03      Finance   Developer           5.8   \n",
       "3      E00004  2023-01-04      Finance  Technician           6.4   \n",
       "4      E00005  2023-01-05    Marketing     Analyst           4.5   \n",
       "5      E00006  2023-01-06    Marketing     Analyst          11.6   \n",
       "6      E00007  2023-01-07        Sales     Manager          11.0   \n",
       "7      E00008  2023-01-08           HR     Manager          11.3   \n",
       "8      E00009  2023-01-09  Engineering  Technician           9.0   \n",
       "9      E00010  2023-01-10           HR   Developer           7.4   \n",
       "\n",
       "   Tasks_Completed  Performance_Score  Tasks_Per_Hour  \n",
       "0               19               3.90            3.73  \n",
       "1                8               2.95            0.86  \n",
       "2                6               2.32            1.03  \n",
       "3               15               1.51            2.34  \n",
       "4                3               3.62            0.67  \n",
       "5                2               1.40            0.17  \n",
       "6               10               3.48            0.91  \n",
       "7                1               4.60            0.09  \n",
       "8               11               2.27            1.22  \n",
       "9                9               2.80            1.22  "
      ]
     },
     "execution_count": 1,
     "metadata": {},
     "output_type": "execute_result"
    }
   ],
   "source": [
    "import pandas as pd\n",
    "import numpy as np\n",
    "\n",
    "df=pd.read_csv(\"C:/Users/CAPACITI-JHB/Desktop/Employee performance/employee_performance.csv\")\n",
    "df.head(10)"
   ]
  },
  {
   "cell_type": "code",
   "execution_count": 3,
   "id": "25e1dc5c-f5c5-4bb5-88e4-d033501aae75",
   "metadata": {},
   "outputs": [
    {
     "data": {
      "text/html": [
       "<div>\n",
       "<style scoped>\n",
       "    .dataframe tbody tr th:only-of-type {\n",
       "        vertical-align: middle;\n",
       "    }\n",
       "\n",
       "    .dataframe tbody tr th {\n",
       "        vertical-align: top;\n",
       "    }\n",
       "\n",
       "    .dataframe thead th {\n",
       "        text-align: right;\n",
       "    }\n",
       "</style>\n",
       "<table border=\"1\" class=\"dataframe\">\n",
       "  <thead>\n",
       "    <tr style=\"text-align: right;\">\n",
       "      <th></th>\n",
       "      <th>count</th>\n",
       "      <th>mean</th>\n",
       "      <th>std</th>\n",
       "      <th>min</th>\n",
       "      <th>25%</th>\n",
       "      <th>50%</th>\n",
       "      <th>75%</th>\n",
       "      <th>max</th>\n",
       "    </tr>\n",
       "  </thead>\n",
       "  <tbody>\n",
       "    <tr>\n",
       "      <th>Hours_Worked</th>\n",
       "      <td>1000.0</td>\n",
       "      <td>8.017700</td>\n",
       "      <td>2.343081</td>\n",
       "      <td>4.00</td>\n",
       "      <td>6.00</td>\n",
       "      <td>8.00</td>\n",
       "      <td>10.1000</td>\n",
       "      <td>12.00</td>\n",
       "    </tr>\n",
       "    <tr>\n",
       "      <th>Tasks_Completed</th>\n",
       "      <td>1010.0</td>\n",
       "      <td>10.486139</td>\n",
       "      <td>5.820430</td>\n",
       "      <td>1.00</td>\n",
       "      <td>5.00</td>\n",
       "      <td>10.00</td>\n",
       "      <td>16.0000</td>\n",
       "      <td>20.00</td>\n",
       "    </tr>\n",
       "    <tr>\n",
       "      <th>Performance_Score</th>\n",
       "      <td>1010.0</td>\n",
       "      <td>2.931485</td>\n",
       "      <td>1.131675</td>\n",
       "      <td>1.00</td>\n",
       "      <td>1.94</td>\n",
       "      <td>2.93</td>\n",
       "      <td>3.8875</td>\n",
       "      <td>4.99</td>\n",
       "    </tr>\n",
       "    <tr>\n",
       "      <th>Tasks_Per_Hour</th>\n",
       "      <td>1010.0</td>\n",
       "      <td>1.435307</td>\n",
       "      <td>0.960172</td>\n",
       "      <td>0.08</td>\n",
       "      <td>0.68</td>\n",
       "      <td>1.27</td>\n",
       "      <td>2.0000</td>\n",
       "      <td>5.00</td>\n",
       "    </tr>\n",
       "  </tbody>\n",
       "</table>\n",
       "</div>"
      ],
      "text/plain": [
       "                    count       mean       std   min   25%    50%      75%  \\\n",
       "Hours_Worked       1000.0   8.017700  2.343081  4.00  6.00   8.00  10.1000   \n",
       "Tasks_Completed    1010.0  10.486139  5.820430  1.00  5.00  10.00  16.0000   \n",
       "Performance_Score  1010.0   2.931485  1.131675  1.00  1.94   2.93   3.8875   \n",
       "Tasks_Per_Hour     1010.0   1.435307  0.960172  0.08  0.68   1.27   2.0000   \n",
       "\n",
       "                     max  \n",
       "Hours_Worked       12.00  \n",
       "Tasks_Completed    20.00  \n",
       "Performance_Score   4.99  \n",
       "Tasks_Per_Hour      5.00  "
      ]
     },
     "execution_count": 3,
     "metadata": {},
     "output_type": "execute_result"
    }
   ],
   "source": [
    "df.describe().T"
   ]
  },
  {
   "cell_type": "code",
   "execution_count": 5,
   "id": "59dfe04e-69fe-4b13-84a0-89ad9e663e2a",
   "metadata": {},
   "outputs": [
    {
     "name": "stdout",
     "output_type": "stream",
     "text": [
      "Employee_ID           object\n",
      "Date                  object\n",
      "Department            object\n",
      "Job_Role              object\n",
      "Hours_Worked         float64\n",
      "Tasks_Completed        int64\n",
      "Performance_Score    float64\n",
      "Tasks_Per_Hour       float64\n",
      "dtype: object\n"
     ]
    }
   ],
   "source": [
    "print(df.dtypes)"
   ]
  },
  {
   "cell_type": "code",
   "execution_count": 7,
   "id": "22048577-3d8d-4975-85b1-d0c674473469",
   "metadata": {},
   "outputs": [
    {
     "name": "stdout",
     "output_type": "stream",
     "text": [
      "Employee_ID           0\n",
      "Date                  0\n",
      "Department            0\n",
      "Job_Role              0\n",
      "Hours_Worked         10\n",
      "Tasks_Completed       0\n",
      "Performance_Score     0\n",
      "Tasks_Per_Hour        0\n",
      "dtype: int64\n"
     ]
    }
   ],
   "source": [
    "missing_values = df.isnull().sum() \n",
    "print(missing_values)"
   ]
  },
  {
   "cell_type": "code",
   "execution_count": 9,
   "id": "5633127f-b455-4781-a3c4-cb7b0576d7c9",
   "metadata": {},
   "outputs": [
    {
     "name": "stdout",
     "output_type": "stream",
     "text": [
      "Number of rows with duplicated values: 10\n"
     ]
    }
   ],
   "source": [
    "# Count rows with duplicate values\n",
    "duplicate_rows = df[df.duplicated()]\n",
    "num_duplicates = duplicate_rows.shape[0]\n",
    "\n",
    "print(f\"Number of rows with duplicated values: {num_duplicates}\")"
   ]
  },
  {
   "cell_type": "code",
   "execution_count": 11,
   "id": "d5d513c4-9eda-47a3-8c05-02e303cb671b",
   "metadata": {},
   "outputs": [
    {
     "name": "stdout",
     "output_type": "stream",
     "text": [
      "Number of rows with null values: 10\n"
     ]
    }
   ],
   "source": [
    "# Count rows with any null values\n",
    "rows_with_nulls = df.isnull().any(axis=1).sum()\n",
    "print(f\"Number of rows with null values: {rows_with_nulls}\")"
   ]
  },
  {
   "cell_type": "code",
   "execution_count": 13,
   "id": "7b261caf-7906-4456-8caa-a0d6dffe3813",
   "metadata": {},
   "outputs": [
    {
     "name": "stdout",
     "output_type": "stream",
     "text": [
      "Number of rows with duplicated values: 10\n"
     ]
    }
   ],
   "source": [
    "# Count rows with duplicate values\n",
    "duplicate_rows = df[df.duplicated()]\n",
    "num_duplicates = duplicate_rows.shape[0]\n",
    "\n",
    "print(f\"Number of rows with duplicated values: {num_duplicates}\")"
   ]
  },
  {
   "cell_type": "code",
   "execution_count": 53,
   "id": "8e5b618a-d620-4dd9-9049-648a8fa77fba",
   "metadata": {},
   "outputs": [],
   "source": [
    "# 1. Handle missing values in the 'Hours_Worked' column using mean imputation\n",
    "if 'Hours_Worked' in df.columns:\n",
    "    hours_mean = df['Hours_Worked'].mean()\n",
    "    df['Hours_Worked'] = df['Hours_Worked'].fillna(hours_mean)\n",
    "\n",
    "#df['Hours_Worked'].fillna(mean_hours_worked, inplace=True)\n",
    "df.fillna({'Hours_Worked': hours_mean}, inplace=True)\n",
    "# Save the DataFrame to a new CSV file\n",
    "output_path = \"C:/Users/CAPACITI-JHB/Desktop/Employee performance/updated_employee_performance.csv\"\n",
    "df.to_csv(output_path, index=False)\n"
   ]
  },
  {
   "cell_type": "code",
   "execution_count": 17,
   "id": "a000bd02-867b-49d2-8eba-2dfbbc52496c",
   "metadata": {},
   "outputs": [
    {
     "name": "stdout",
     "output_type": "stream",
     "text": [
      "Missing values in 'Hours_Worked': 10\n"
     ]
    }
   ],
   "source": [
    "missing_values_count = df['Hours_Worked'].isnull().sum()\n",
    "print(f\"Missing values in 'Hours_Worked': {missing_values_count}\")"
   ]
  },
  {
   "cell_type": "code",
   "execution_count": 19,
   "id": "03649417-846a-449d-83f0-552a9a807946",
   "metadata": {},
   "outputs": [
    {
     "name": "stdout",
     "output_type": "stream",
     "text": [
      "Employee_ID                  object\n",
      "Date                 datetime64[ns]\n",
      "Department                 category\n",
      "Job_Role                   category\n",
      "Hours_Worked                float64\n",
      "Tasks_Completed               int32\n",
      "Performance_Score           float64\n",
      "Tasks_Per_Hour              float64\n",
      "dtype: object\n"
     ]
    }
   ],
   "source": [
    "# Convert the 'Date' column to a datetime object\n",
    "df['Date'] = pd.to_datetime(df['Date'], errors='coerce')\n",
    "\n",
    "# Ensure correct data types for other columns\n",
    "df['Employee_ID'] = df['Employee_ID'].astype(str)  # Ensure Employee_ID is a string\n",
    "df['Department'] = df['Department'].astype('category')  # Convert Department to category\n",
    "df['Job_Role'] = df['Job_Role'].astype('category')  # Convert Job_Role to category\n",
    "df['Tasks_Completed'] = df['Tasks_Completed'].astype(int)  # Ensure Tasks_Completed is integer\n",
    "df['Performance_Score'] = df['Performance_Score'].astype(float)  # Ensure Performance_Score is float\n",
    "df['Tasks_Per_Hour'] = df['Tasks_Per_Hour'].astype(float)  # Ensure Tasks_Per_Hour is float\n",
    "\n",
    "output_path = \"C:/Users/CAPACITI-JHB/Desktop/Employee performance/updated_employee_performance.csv\"\n",
    "df.to_csv(output_path, index=False)\n",
    "\n",
    "# Verify the data types\n",
    "print(df.dtypes)"
   ]
  },
  {
   "cell_type": "code",
   "execution_count": 29,
   "id": "743e986b-7b62-4790-8ef8-a36633677595",
   "metadata": {},
   "outputs": [
    {
     "name": "stdout",
     "output_type": "stream",
     "text": [
      "  Employee_ID       Date Department    Job_Role  Hours_Worked  \\\n",
      "0      E00001 2023-01-01  Marketing     Manager           5.1   \n",
      "1      E00002 2023-01-02         HR  Consultant           9.3   \n",
      "2      E00003 2023-01-03    Finance   Developer           5.8   \n",
      "3      E00004 2023-01-04    Finance  Technician           6.4   \n",
      "4      E00005 2023-01-05  Marketing     Analyst           4.5   \n",
      "\n",
      "   Tasks_Completed  Performance_Score  Tasks_Per_Hour  Flagged  \n",
      "0               19               3.90            3.73    False  \n",
      "1                8               2.95            0.86    False  \n",
      "2                6               2.32            1.03    False  \n",
      "3               15               1.51            2.34    False  \n",
      "4                3               3.62            0.67    False  \n"
     ]
    }
   ],
   "source": [
    "# 4. Flag abnormally high or low 'Tasks_Per_Hour' values using the 1.5 IQR rule\n",
    "if 'Tasks_Per_Hour' in df.columns:\n",
    "    Q1 = df['Tasks_Per_Hour'].quantile(0.25)\n",
    "    Q3 = df['Tasks_Per_Hour'].quantile(0.75)\n",
    "    IQR = Q3 - Q1\n",
    "    lower_bound = Q1 - 1.5 * IQR\n",
    "    upper_bound = Q3 + 1.5 * IQR\n",
    "\n",
    "\n",
    "# Add a 'Flagged' column to identify outliers\n",
    "    df['Flagged'] = ((df['Tasks_Per_Hour'] < lower_bound) | (df['Tasks_Per_Hour'] > upper_bound))\n",
    "\n",
    "# Display the first few rows of the processed dataset\n",
    "print (df.head())"
   ]
  },
  {
   "cell_type": "code",
   "execution_count": 31,
   "id": "6e2e31d1-ea0e-4392-a13b-1490727f05cc",
   "metadata": {},
   "outputs": [
    {
     "name": "stdout",
     "output_type": "stream",
     "text": [
      "        Date  Year  Month\n",
      "0 2023-01-01  2023      1\n",
      "1 2023-01-02  2023      1\n",
      "2 2023-01-03  2023      1\n",
      "3 2023-01-04  2023      1\n",
      "4 2023-01-05  2023      1\n",
      "5 2023-01-06  2023      1\n",
      "6 2023-01-07  2023      1\n",
      "7 2023-01-08  2023      1\n",
      "8 2023-01-09  2023      1\n",
      "9 2023-01-10  2023      1\n"
     ]
    }
   ],
   "source": [
    "# Ensure the 'Date' column is a datetime object\n",
    "df['Date'] = pd.to_datetime(df['Date'], errors='coerce')\n",
    "\n",
    "# Extract Year and Month from the 'Date' column\n",
    "df['Year'] = df['Date'].dt.year\n",
    "df['Month'] = df['Date'].dt.month\n",
    "\n",
    "# Display the updated DataFrame (optional)\n",
    "print(df[['Date', 'Year', 'Month']].head(10))"
   ]
  },
  {
   "cell_type": "code",
   "execution_count": 35,
   "id": "8a782e57-cc93-4bd6-b20c-cd600defed28",
   "metadata": {},
   "outputs": [
    {
     "name": "stdout",
     "output_type": "stream",
     "text": [
      "Department\n",
      "Engineering    2.944106\n",
      "Finance        2.929848\n",
      "HR             3.011878\n",
      "Marketing      2.847820\n",
      "Sales          2.935305\n",
      "Name: Performance_Score, dtype: float64\n"
     ]
    }
   ],
   "source": [
    "# Calculate the average performance score for each department with explicit 'observed' parameter\n",
    "average_performance_by_department = df.groupby('Department', observed=False)['Performance_Score'].mean()\n",
    "\n",
    "# Display the result\n",
    "print(average_performance_by_department)"
   ]
  },
  {
   "cell_type": "code",
   "execution_count": 37,
   "id": "060e6f3f-3d98-4e53-8083-59d24983475c",
   "metadata": {},
   "outputs": [
    {
     "name": "stdout",
     "output_type": "stream",
     "text": [
      "Job_Role\n",
      "Analyst       11.272277\n",
      "Manager       10.395000\n",
      "Technician    10.354497\n",
      "Name: Tasks_Completed, dtype: float64\n"
     ]
    }
   ],
   "source": [
    "# Group by Job Role and calculate the average tasks completed per day with observed=False\n",
    "average_tasks_by_role = df.groupby('Job_Role', observed=False)['Tasks_Completed'].mean()\n",
    "\n",
    "# Sort by the average number of tasks completed per day in descending order\n",
    "top_3_roles = average_tasks_by_role.sort_values(ascending=False).head(3)\n",
    "\n",
    "# Display the top 3 roles with the highest average tasks completed per day\n",
    "print(top_3_roles)"
   ]
  },
  {
   "cell_type": "code",
   "execution_count": 39,
   "id": "43e4ebda-fb4e-4648-a99f-5c4abbc1423c",
   "metadata": {},
   "outputs": [
    {
     "name": "stdout",
     "output_type": "stream",
     "text": [
      "Department\n",
      "Engineering    2348\n",
      "Finance        2017\n",
      "HR             1851\n",
      "Marketing      2188\n",
      "Sales          2187\n",
      "Name: Tasks_Completed, dtype: int32\n"
     ]
    }
   ],
   "source": [
    "# Group by Department and calculate the total tasks completed with observed=False\n",
    "total_tasks_by_department = df.groupby('Department', observed=False)['Tasks_Completed'].sum()\n",
    "\n",
    "# Display the result\n",
    "print(total_tasks_by_department)"
   ]
  },
  {
   "cell_type": "code",
   "execution_count": 55,
   "id": "7c7f7041-6453-4325-99e8-fedc0ebc4412",
   "metadata": {},
   "outputs": [
    {
     "name": "stderr",
     "output_type": "stream",
     "text": [
      "C:\\Users\\CAPACITI-JHB\\AppData\\Local\\Temp\\ipykernel_8704\\1449535904.py:9: FutureWarning: The default of observed=False is deprecated and will be changed to True in a future version of pandas. Pass observed=False to retain current behavior or observed=True to adopt the future default and silence this warning.\n",
      "  average_performance_by_department = df.groupby('Department')['Performance_Score'].mean()\n",
      "C:\\Users\\CAPACITI-JHB\\AppData\\Local\\Temp\\ipykernel_8704\\1449535904.py:13: FutureWarning: \n",
      "\n",
      "Passing `palette` without assigning `hue` is deprecated and will be removed in v0.14.0. Assign the `x` variable to `hue` and set `legend=False` for the same effect.\n",
      "\n",
      "  sns.barplot(x=average_performance_by_department.index, y=average_performance_by_department.values, palette='coolwarm')\n"
     ]
    },
    {
     "data": {
      "image/png": "[encoded data removed]",
      "text/plain": [
       "<Figure size 800x500 with 1 Axes>"
      ]
     },
     "metadata": {},
     "output_type": "display_data"
    }
   ],
   "source": [
    "import matplotlib.pyplot as plt\n",
    "import seaborn as sns\n",
    "\n",
    "\n",
    "# Ensure the 'Date' column is a datetime object\n",
    "df['Date'] = pd.to_datetime(df['Date'], errors='coerce')\n",
    "\n",
    "# Calculate the average performance score for each department\n",
    "average_performance_by_department = df.groupby('Department')['Performance_Score'].mean()\n",
    "\n",
    "# Plot the bar chart\n",
    "plt.figure(figsize=(8, 5))\n",
    "sns.barplot(x=average_performance_by_department.index, y=average_performance_by_department.values, palette='coolwarm')\n",
    "\n",
    "# Labels and title\n",
    "plt.xlabel(\"Department\")\n",
    "plt.ylabel(\"Average Performance Score\")\n",
    "plt.title(\"Average Performance Score by Department\")\n",
    "plt.xticks(rotation=45)\n",
    "plt.grid(axis='y', linestyle='--', alpha=0.7)\n",
    "\n",
    "# Show the plot\n",
    "plt.show()"
   ]
  },
  {
   "cell_type": "code",
   "execution_count": 59,
   "id": "17490483-0b2f-4274-8d43-78075c42b55f",
   "metadata": {},
   "outputs": [
    {
     "name": "stderr",
     "output_type": "stream",
     "text": [
      "C:\\Users\\CAPACITI-JHB\\AppData\\Local\\Temp\\ipykernel_8704\\1022322259.py:2: FutureWarning: The default of observed=False is deprecated and will be changed to True in a future version of pandas. Pass observed=False to retain current behavior or observed=True to adopt the future default and silence this warning.\n",
      "  total_tasks_by_department = df.groupby('Department')['Tasks_Completed'].sum()\n"
     ]
    },
    {
     "data": {
      "image/png": "[encoded data removed]",
      "text/plain": [
       "<Figure size 700x700 with 1 Axes>"
      ]
     },
     "metadata": {},
     "output_type": "display_data"
    }
   ],
   "source": [
    "\n",
    "# Calculate total tasks completed by department\n",
    "total_tasks_by_department = df.groupby('Department')['Tasks_Completed'].sum()\n",
    "\n",
    "# Plot the pie chart\n",
    "plt.figure(figsize=(7, 7))\n",
    "plt.pie(total_tasks_by_department, labels=total_tasks_by_department.index, autopct='%1.1f%%', colors=sns.color_palette(\"Set2\"), startangle=140)\n",
    "\n",
    "# Title\n",
    "plt.title(\"Proportion of Total Tasks Completed by Department\")\n",
    "\n",
    "# Show the plot\n",
    "plt.show()"
   ]
  },
  {
   "cell_type": "code",
   "execution_count": null,
   "id": "1cd42286-115e-4e25-bd0a-92813ad18ab5",
   "metadata": {},
   "outputs": [],
   "source": [
    " **Insights and Recommendation:**\n",
    "\n",
    "1. Best Performing Department:\n",
    "   The HR department shows the highest average performance score (3.00). To replicate success:\n",
    "\n",
    "   *  Implement cross-departmental knowledge sharing sessions led by HR\n",
    "\n",
    "   * Adopt HR's task prioritization methods across all departments\n",
    "\n",
    "3. Improvement Strategies for Lower Performers:\n",
    "   For departments like Marketing (2.85) and Finance (2.94):\n",
    "\n",
    "   * Introduce targeted skills development programs focusing on time management\n",
    "\n",
    "   * Implement process automation for repetitive tasks to boost efficiency\n",
    "\n",
    "   * Establish mentorship programs pairing low performers with top performers\n",
    "\n",
    "   * Review and optimize workflow processes in underperforming departments\n",
    "\n",
    "**Key Findings:**\n",
    "\n",
    "* Engineering completes the most tasks (2337), but has mid-range performance scores\n",
    "\n",
    "* Analyst roles complete the most daily tasks (11.36 average)\n",
    "\n",
    "* Tasks/hour show seasonal patterns with dips in mid-year months\n",
    "\n",
    "* Flagged outliers should be reviewed for potential data errors or special  circumstances\n",
    "\n",
    "**Recommendations:**\n",
    "\n",
    "1. Develop department-specific performance improvement plans\n",
    "\n",
    "2. Implement real-time performance dashboards for managers\n",
    "\n",
    "3. Create cross-functional teams to share best practices\n",
    "\n",
    "4. Review and standardize performance metrics across departments"
   ]
  }
 ],
 "metadata": {
  "kernelspec": {
   "display_name": "Python 3 (ipykernel)",
   "language": "python",
   "name": "python3"
  },
  "language_info": {
   "codemirror_mode": {
    "name": "ipython",
    "version": 3
   },
   "file_extension": ".py",
   "mimetype": "text/x-python",
   "name": "python",
   "nbconvert_exporter": "python",
   "pygments_lexer": "ipython3",
   "version": "3.12.3"
  }
 },
 "nbformat": 4,
 "nbformat_minor": 5
}
